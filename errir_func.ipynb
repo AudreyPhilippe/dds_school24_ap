{
 "cells": [
  {
   "cell_type": "code",
   "execution_count": 2,
   "id": "50a0c7d2-3b2d-42dd-b015-43b9ef8642cf",
   "metadata": {},
   "outputs": [],
   "source": [
    "def add (a,b):\n",
    "    return(a+b)"
   ]
  },
  {
   "cell_type": "code",
   "execution_count": null,
   "id": "4f436ef2-00b4-4511-8f5f-0582035b4d2f",
   "metadata": {},
   "outputs": [],
   "source": []
  }
 ],
 "metadata": {
  "kernelspec": {
   "display_name": "Python 3 (ipykernel)",
   "language": "python",
   "name": "python3"
  },
  "language_info": {
   "codemirror_mode": {
    "name": "ipython",
    "version": 3
   },
   "file_extension": ".py",
   "mimetype": "text/x-python",
   "name": "python",
   "nbconvert_exporter": "python",
   "pygments_lexer": "ipython3",
   "version": "3.11.10"
  }
 },
 "nbformat": 4,
 "nbformat_minor": 5
}
