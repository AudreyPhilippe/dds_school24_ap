{
 "cells": [
  {
   "cell_type": "code",
   "execution_count": 2,
   "id": "50a0c7d2-3b2d-42dd-b015-43b9ef8642cf",
   "metadata": {},
   "outputs": [],
   "source": [
    "def add (a,b):\n",
    "    return(a+b)"
   ]
  },
  {
   "cell_type": "code",
   "execution_count": 3,
   "id": "4f436ef2-00b4-4511-8f5f-0582035b4d2f",
   "metadata": {},
   "outputs": [],
   "source": [
    "def mul(a,b):\n",
    "    return(a*b)\n"
   ]
  },
  {
   "cell_type": "code",
   "execution_count": 4,
   "id": "eae7cdf2-d61b-43b7-8dc7-73676313f50e",
   "metadata": {},
   "outputs": [
    {
     "data": {
      "text/plain": [
       "<function ipytest._config.autoconfig(rewrite_asserts=<default>, magics=<default>, clean=<default>, addopts=<default>, run_in_thread=<default>, defopts=<default>, display_columns=<default>, raise_on_error=<default>, coverage=<default>)>"
      ]
     },
     "execution_count": 4,
     "metadata": {},
     "output_type": "execute_result"
    }
   ],
   "source": [
    "import ipytest\n",
    "ipytest.autoconfig"
   ]
  },
  {
   "cell_type": "code",
   "execution_count": 7,
   "id": "703758d9-2b52-4034-93a9-e93e2397472a",
   "metadata": {},
   "outputs": [],
   "source": [
    "def test_mul_simple():\n",
    "    assert mul(0,65646)==0\n",
    "    # assert mul(0,165478)==116546\n",
    "    assert mul(5,10)==50"
   ]
  },
  {
   "cell_type": "code",
   "execution_count": 8,
   "id": "44fedb22-96c0-430d-977a-f33a5808068e",
   "metadata": {},
   "outputs": [
    {
     "name": "stdout",
     "output_type": "stream",
     "text": [
      "\u001b[1m======================================= test session starts =======================================\u001b[0m\n",
      "platform win32 -- Python 3.11.10, pytest-8.3.3, pluggy-1.5.0 -- C:\\Users\\philippea\\AppData\\Local\\miniconda3\\envs\\bw25\\python.exe\n",
      "cachedir: .pytest_cache\n",
      "rootdir: D:\\Documents\\philippea\\GitHub\\dds_school24_ap\\dds_school24_ap\n",
      "plugins: anyio-4.6.2.post1\n",
      "\u001b[1mcollecting ... \u001b[0mcollected 1 item\n",
      "\n",
      "t_256201be185b4a95906103f82dc8a088.py::test_mul_simple <- C:\\Users\\philippea\\AppData\\Local\\Temp\\ipykernel_19620\\2283242390.py \u001b[32mPASSED\u001b[0m\u001b[32m [100%]\u001b[0m\n",
      "\n",
      "\u001b[32m======================================== \u001b[32m\u001b[1m1 passed\u001b[0m\u001b[32m in 0.06s\u001b[0m\u001b[32m ========================================\u001b[0m\n"
     ]
    },
    {
     "data": {
      "text/plain": [
       "<ExitCode.OK: 0>"
      ]
     },
     "execution_count": 8,
     "metadata": {},
     "output_type": "execute_result"
    }
   ],
   "source": [
    "ipytest.run('-vv')"
   ]
  },
  {
   "cell_type": "code",
   "execution_count": null,
   "id": "2c3338f3-5df1-4b17-8854-84c7b4d9d467",
   "metadata": {},
   "outputs": [],
   "source": []
  }
 ],
 "metadata": {
  "kernelspec": {
   "display_name": "Python 3 (ipykernel)",
   "language": "python",
   "name": "python3"
  },
  "language_info": {
   "codemirror_mode": {
    "name": "ipython",
    "version": 3
   },
   "file_extension": ".py",
   "mimetype": "text/x-python",
   "name": "python",
   "nbconvert_exporter": "python",
   "pygments_lexer": "ipython3",
   "version": "3.11.10"
  }
 },
 "nbformat": 4,
 "nbformat_minor": 5
}
